{
  "nbformat": 4,
  "nbformat_minor": 0,
  "metadata": {
    "colab": {
      "provenance": [],
      "authorship_tag": "ABX9TyM7Lk+y63p1GQM5R3mdb/C/",
      "include_colab_link": true
    },
    "kernelspec": {
      "name": "python3",
      "display_name": "Python 3"
    },
    "language_info": {
      "name": "python"
    }
  },
  "cells": [
    {
      "cell_type": "markdown",
      "metadata": {
        "id": "view-in-github",
        "colab_type": "text"
      },
      "source": [
        "<a href=\"https://colab.research.google.com/github/NumdyPixe1/AR_Cleveland_Museum_of_Art/blob/main/Line-KhaoMai.ipynb\" target=\"_parent\"><img src=\"https://colab.research.google.com/assets/colab-badge.svg\" alt=\"Open In Colab\"/></a>"
      ]
    },
    {
      "cell_type": "code",
      "source": [
        "token = \"cGMKPUfZwE4IIyIkBHxFCgFqX9Pya7GVfEIU3qCN5fX\""
      ],
      "metadata": {
        "id": "0brLxBGY10H0"
      },
      "execution_count": 28,
      "outputs": []
    },
    {
      "cell_type": "code",
      "source": [
        "import requests"
      ],
      "metadata": {
        "id": "2LKBrss_2X6H"
      },
      "execution_count": 29,
      "outputs": []
    },
    {
      "cell_type": "code",
      "source": [
        "url = \"https://notify-api.line.me/api/notify\""
      ],
      "metadata": {
        "id": "FIR6jS3h2dHn"
      },
      "execution_count": 30,
      "outputs": []
    },
    {
      "cell_type": "code",
      "source": [
        "header = {\"content-type\": \"application/x-www-form-urlencoded\",\"authorization\": \"Bearer \" + token}"
      ],
      "metadata": {
        "id": "mgBl8vuE3nJQ"
      },
      "execution_count": 31,
      "outputs": []
    },
    {
      "cell_type": "code",
      "source": [
        "session = requests.Session()"
      ],
      "metadata": {
        "id": "Em23pHTL8LnJ"
      },
      "execution_count": 32,
      "outputs": []
    },
    {
      "cell_type": "code",
      "source": [
        "data={\"message\": \"สวัสดีฉันชื่อข้าวไหม้ ผู้ช่วยของนำดาว\"}"
      ],
      "metadata": {
        "id": "tCY02hRJ8NHu"
      },
      "execution_count": 33,
      "outputs": []
    },
    {
      "cell_type": "code",
      "source": [
        "session.post(url, headers=header, data=data)"
      ],
      "metadata": {
        "colab": {
          "base_uri": "https://localhost:8080/"
        },
        "id": "Ljj8PkJ58OVA",
        "outputId": "0c22741e-dd80-40b0-ad4a-0cd2cd18da25"
      },
      "execution_count": 34,
      "outputs": [
        {
          "output_type": "execute_result",
          "data": {
            "text/plain": [
              "<Response [400]>"
            ]
          },
          "metadata": {},
          "execution_count": 34
        }
      ]
    }
  ]
}